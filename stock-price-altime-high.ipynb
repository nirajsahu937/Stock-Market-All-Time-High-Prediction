{
 "cells": [
  {
   "cell_type": "markdown",
   "id": "dfe9155e",
   "metadata": {
    "papermill": {
     "duration": 0.006458,
     "end_time": "2024-04-13T18:05:44.133002",
     "exception": false,
     "start_time": "2024-04-13T18:05:44.126544",
     "status": "completed"
    },
    "tags": []
   },
   "source": [
    "# **In this notebook I am trying to find out at which time(minute) most of the stock is all time high**"
   ]
  },
  {
   "cell_type": "code",
   "execution_count": 1,
   "id": "8e1dae3d",
   "metadata": {
    "execution": {
     "iopub.execute_input": "2024-04-13T18:05:45.320420Z",
     "iopub.status.busy": "2024-04-13T18:05:45.319009Z",
     "iopub.status.idle": "2024-04-13T18:05:45.324498Z",
     "shell.execute_reply": "2024-04-13T18:05:45.323706Z"
    },
    "papermill": {
     "duration": 0.014977,
     "end_time": "2024-04-13T18:05:45.326877",
     "exception": false,
     "start_time": "2024-04-13T18:05:45.311900",
     "status": "completed"
    },
    "tags": []
   },
   "outputs": [
    {
     "name": "stderr",
     "output_type": "stream",
     "text": [
      "C:\\Users\\DELL\\AppData\\Local\\Temp\\ipykernel_17200\\217833862.py:1: DeprecationWarning: \n",
      "Pyarrow will become a required dependency of pandas in the next major release of pandas (pandas 3.0),\n",
      "(to allow more performant data types, such as the Arrow string type, and better interoperability with other libraries)\n",
      "but was not found to be installed on your system.\n",
      "If this would cause problems for you,\n",
      "please provide us feedback at https://github.com/pandas-dev/pandas/issues/54466\n",
      "        \n",
      "  import pandas as pd\n"
     ]
    }
   ],
   "source": [
    "import pandas as pd "
   ]
  },
  {
   "cell_type": "code",
   "execution_count": 3,
   "id": "f6133999",
   "metadata": {
    "execution": {
     "iopub.execute_input": "2024-04-13T18:05:45.340316Z",
     "iopub.status.busy": "2024-04-13T18:05:45.339641Z",
     "iopub.status.idle": "2024-04-13T18:05:47.656818Z",
     "shell.execute_reply": "2024-04-13T18:05:47.655434Z"
    },
    "papermill": {
     "duration": 2.327292,
     "end_time": "2024-04-13T18:05:47.659829",
     "exception": false,
     "start_time": "2024-04-13T18:05:45.332537",
     "status": "completed"
    },
    "tags": []
   },
   "outputs": [
    {
     "data": {
      "text/html": [
       "<div>\n",
       "<style scoped>\n",
       "    .dataframe tbody tr th:only-of-type {\n",
       "        vertical-align: middle;\n",
       "    }\n",
       "\n",
       "    .dataframe tbody tr th {\n",
       "        vertical-align: top;\n",
       "    }\n",
       "\n",
       "    .dataframe thead th {\n",
       "        text-align: right;\n",
       "    }\n",
       "</style>\n",
       "<table border=\"1\" class=\"dataframe\">\n",
       "  <thead>\n",
       "    <tr style=\"text-align: right;\">\n",
       "      <th></th>\n",
       "      <th>date</th>\n",
       "      <th>open</th>\n",
       "      <th>high</th>\n",
       "      <th>low</th>\n",
       "      <th>close</th>\n",
       "      <th>volume</th>\n",
       "    </tr>\n",
       "  </thead>\n",
       "  <tbody>\n",
       "    <tr>\n",
       "      <th>0</th>\n",
       "      <td>2015-01-09 09:15:00</td>\n",
       "      <td>8285.45</td>\n",
       "      <td>8295.90</td>\n",
       "      <td>8285.45</td>\n",
       "      <td>8292.10</td>\n",
       "      <td>0</td>\n",
       "    </tr>\n",
       "    <tr>\n",
       "      <th>1</th>\n",
       "      <td>2015-01-09 09:16:00</td>\n",
       "      <td>8292.60</td>\n",
       "      <td>8293.60</td>\n",
       "      <td>8287.20</td>\n",
       "      <td>8288.15</td>\n",
       "      <td>0</td>\n",
       "    </tr>\n",
       "    <tr>\n",
       "      <th>2</th>\n",
       "      <td>2015-01-09 09:17:00</td>\n",
       "      <td>8287.40</td>\n",
       "      <td>8293.90</td>\n",
       "      <td>8287.40</td>\n",
       "      <td>8293.90</td>\n",
       "      <td>0</td>\n",
       "    </tr>\n",
       "    <tr>\n",
       "      <th>3</th>\n",
       "      <td>2015-01-09 09:18:00</td>\n",
       "      <td>8294.25</td>\n",
       "      <td>8300.65</td>\n",
       "      <td>8293.90</td>\n",
       "      <td>8300.65</td>\n",
       "      <td>0</td>\n",
       "    </tr>\n",
       "    <tr>\n",
       "      <th>4</th>\n",
       "      <td>2015-01-09 09:19:00</td>\n",
       "      <td>8300.60</td>\n",
       "      <td>8301.30</td>\n",
       "      <td>8298.75</td>\n",
       "      <td>8301.20</td>\n",
       "      <td>0</td>\n",
       "    </tr>\n",
       "    <tr>\n",
       "      <th>...</th>\n",
       "      <td>...</td>\n",
       "      <td>...</td>\n",
       "      <td>...</td>\n",
       "      <td>...</td>\n",
       "      <td>...</td>\n",
       "      <td>...</td>\n",
       "    </tr>\n",
       "    <tr>\n",
       "      <th>836752</th>\n",
       "      <td>2024-01-25 15:25:00</td>\n",
       "      <td>21376.55</td>\n",
       "      <td>21378.90</td>\n",
       "      <td>21372.75</td>\n",
       "      <td>21377.95</td>\n",
       "      <td>0</td>\n",
       "    </tr>\n",
       "    <tr>\n",
       "      <th>836753</th>\n",
       "      <td>2024-01-25 15:26:00</td>\n",
       "      <td>21376.55</td>\n",
       "      <td>21386.10</td>\n",
       "      <td>21375.80</td>\n",
       "      <td>21384.20</td>\n",
       "      <td>0</td>\n",
       "    </tr>\n",
       "    <tr>\n",
       "      <th>836754</th>\n",
       "      <td>2024-01-25 15:27:00</td>\n",
       "      <td>21384.75</td>\n",
       "      <td>21401.75</td>\n",
       "      <td>21381.30</td>\n",
       "      <td>21394.15</td>\n",
       "      <td>0</td>\n",
       "    </tr>\n",
       "    <tr>\n",
       "      <th>836755</th>\n",
       "      <td>2024-01-25 15:28:00</td>\n",
       "      <td>21392.70</td>\n",
       "      <td>21396.25</td>\n",
       "      <td>21384.25</td>\n",
       "      <td>21395.70</td>\n",
       "      <td>0</td>\n",
       "    </tr>\n",
       "    <tr>\n",
       "      <th>836756</th>\n",
       "      <td>2024-01-25 15:29:00</td>\n",
       "      <td>21391.75</td>\n",
       "      <td>21391.95</td>\n",
       "      <td>21367.40</td>\n",
       "      <td>21370.75</td>\n",
       "      <td>0</td>\n",
       "    </tr>\n",
       "  </tbody>\n",
       "</table>\n",
       "<p>836757 rows × 6 columns</p>\n",
       "</div>"
      ],
      "text/plain": [
       "                       date      open      high       low     close  volume\n",
       "0       2015-01-09 09:15:00   8285.45   8295.90   8285.45   8292.10       0\n",
       "1       2015-01-09 09:16:00   8292.60   8293.60   8287.20   8288.15       0\n",
       "2       2015-01-09 09:17:00   8287.40   8293.90   8287.40   8293.90       0\n",
       "3       2015-01-09 09:18:00   8294.25   8300.65   8293.90   8300.65       0\n",
       "4       2015-01-09 09:19:00   8300.60   8301.30   8298.75   8301.20       0\n",
       "...                     ...       ...       ...       ...       ...     ...\n",
       "836752  2024-01-25 15:25:00  21376.55  21378.90  21372.75  21377.95       0\n",
       "836753  2024-01-25 15:26:00  21376.55  21386.10  21375.80  21384.20       0\n",
       "836754  2024-01-25 15:27:00  21384.75  21401.75  21381.30  21394.15       0\n",
       "836755  2024-01-25 15:28:00  21392.70  21396.25  21384.25  21395.70       0\n",
       "836756  2024-01-25 15:29:00  21391.75  21391.95  21367.40  21370.75       0\n",
       "\n",
       "[836757 rows x 6 columns]"
      ]
     },
     "execution_count": 3,
     "metadata": {},
     "output_type": "execute_result"
    }
   ],
   "source": [
    "df=pd.read_csv(\"NIFTY 50 - Minute data.csv\")\n",
    "df"
   ]
  },
  {
   "cell_type": "code",
   "execution_count": 4,
   "id": "a3eb0fa5",
   "metadata": {
    "execution": {
     "iopub.execute_input": "2024-04-13T18:05:47.674260Z",
     "iopub.status.busy": "2024-04-13T18:05:47.673823Z",
     "iopub.status.idle": "2024-04-13T18:05:48.036072Z",
     "shell.execute_reply": "2024-04-13T18:05:48.034507Z"
    },
    "papermill": {
     "duration": 0.372836,
     "end_time": "2024-04-13T18:05:48.039113",
     "exception": false,
     "start_time": "2024-04-13T18:05:47.666277",
     "status": "completed"
    },
    "tags": []
   },
   "outputs": [],
   "source": [
    "#converting to date-time format\n",
    "df['date']=pd.to_datetime(df['date']) "
   ]
  },
  {
   "cell_type": "code",
   "execution_count": 5,
   "id": "bb1dfc3e",
   "metadata": {
    "execution": {
     "iopub.execute_input": "2024-04-13T18:05:48.052965Z",
     "iopub.status.busy": "2024-04-13T18:05:48.052555Z",
     "iopub.status.idle": "2024-04-13T18:05:49.015727Z",
     "shell.execute_reply": "2024-04-13T18:05:49.014398Z"
    },
    "papermill": {
     "duration": 0.973142,
     "end_time": "2024-04-13T18:05:49.018463",
     "exception": false,
     "start_time": "2024-04-13T18:05:48.045321",
     "status": "completed"
    },
    "tags": []
   },
   "outputs": [],
   "source": [
    "# Creating new columns for date and time \n",
    "df['date_only'] = df['date'].dt.date\n",
    "df['time_only'] = df['date'].dt.time"
   ]
  },
  {
   "cell_type": "code",
   "execution_count": 6,
   "id": "e0ba3e19",
   "metadata": {
    "execution": {
     "iopub.execute_input": "2024-04-13T18:05:49.032250Z",
     "iopub.status.busy": "2024-04-13T18:05:49.031802Z",
     "iopub.status.idle": "2024-04-13T18:05:49.076996Z",
     "shell.execute_reply": "2024-04-13T18:05:49.075515Z"
    },
    "papermill": {
     "duration": 0.054993,
     "end_time": "2024-04-13T18:05:49.079523",
     "exception": false,
     "start_time": "2024-04-13T18:05:49.024530",
     "status": "completed"
    },
    "tags": []
   },
   "outputs": [
    {
     "name": "stdout",
     "output_type": "stream",
     "text": [
      "         date_only time_only\n",
      "0       2015-01-09  09:15:00\n",
      "1       2015-01-09  09:16:00\n",
      "2       2015-01-09  09:17:00\n",
      "3       2015-01-09  09:18:00\n",
      "4       2015-01-09  09:19:00\n",
      "...            ...       ...\n",
      "836752  2024-01-25  15:25:00\n",
      "836753  2024-01-25  15:26:00\n",
      "836754  2024-01-25  15:27:00\n",
      "836755  2024-01-25  15:28:00\n",
      "836756  2024-01-25  15:29:00\n",
      "\n",
      "[836757 rows x 2 columns]\n"
     ]
    }
   ],
   "source": [
    "#in this code we seprate (time and date column) \n",
    "print(df[['date_only', 'time_only']]) "
   ]
  },
  {
   "cell_type": "code",
   "execution_count": 7,
   "id": "395bc214",
   "metadata": {
    "execution": {
     "iopub.execute_input": "2024-04-13T18:05:49.094825Z",
     "iopub.status.busy": "2024-04-13T18:05:49.093684Z",
     "iopub.status.idle": "2024-04-13T18:05:49.141449Z",
     "shell.execute_reply": "2024-04-13T18:05:49.140073Z"
    },
    "papermill": {
     "duration": 0.058296,
     "end_time": "2024-04-13T18:05:49.144410",
     "exception": false,
     "start_time": "2024-04-13T18:05:49.086114",
     "status": "completed"
    },
    "tags": []
   },
   "outputs": [],
   "source": [
    "#deleting data and volume column bcz i have created new column of date and time seperately\n",
    "df.drop(['date','volume'], axis=1,inplace=True) "
   ]
  },
  {
   "cell_type": "markdown",
   "id": "714659dc",
   "metadata": {
    "papermill": {
     "duration": 0.005933,
     "end_time": "2024-04-13T18:05:49.156693",
     "exception": false,
     "start_time": "2024-04-13T18:05:49.150760",
     "status": "completed"
    },
    "tags": []
   },
   "source": [
    "**Finding High price in a minute of each perticular day between 9:15 to 3:30**"
   ]
  },
  {
   "cell_type": "code",
   "execution_count": 8,
   "id": "eba77f86",
   "metadata": {
    "execution": {
     "iopub.execute_input": "2024-04-13T18:05:49.172015Z",
     "iopub.status.busy": "2024-04-13T18:05:49.171616Z",
     "iopub.status.idle": "2024-04-13T18:05:49.420479Z",
     "shell.execute_reply": "2024-04-13T18:05:49.418963Z"
    },
    "papermill": {
     "duration": 0.259286,
     "end_time": "2024-04-13T18:05:49.423284",
     "exception": false,
     "start_time": "2024-04-13T18:05:49.163998",
     "status": "completed"
    },
    "tags": []
   },
   "outputs": [
    {
     "name": "stdout",
     "output_type": "stream",
     "text": [
      "            open      high       low     close   date_only time_only\n",
      "5        8300.50   8303.00   8298.60   8300.00  2015-01-09  09:20:00\n",
      "747      8329.95   8332.25   8329.65   8331.05  2015-01-12  15:27:00\n",
      "1029     8352.80   8356.65   8352.60   8355.50  2015-01-13  13:54:00\n",
      "1155     8318.45   8326.30   8318.45   8325.35  2015-01-14  09:45:00\n",
      "1835     8526.70   8526.90   8520.75   8521.90  2015-01-15  14:50:00\n",
      "...          ...       ...       ...       ...         ...       ...\n",
      "834960  21668.00  21670.60  21662.30  21663.45  2024-01-19  10:33:00\n",
      "835257  21706.15  21720.30  21682.65  21715.90  2024-01-20  09:15:00\n",
      "835633  21741.95  21750.25  21736.30  21736.35  2024-01-23  09:16:00\n",
      "836379  21480.05  21482.35  21474.30  21475.85  2024-01-24  15:27:00\n",
      "836382  21454.60  21459.00  21398.25  21436.05  2024-01-25  09:15:00\n",
      "\n",
      "[2240 rows x 6 columns]\n"
     ]
    }
   ],
   "source": [
    "# Finding the index of the maximum value in the 'high' column for each date\n",
    "max_high_index_per_day = df.groupby('date_only')['high'].idxmax()\n",
    "\n",
    "# Retrieve the rows from the original DataFrame using the index\n",
    "max_high_day = df.loc[max_high_index_per_day]\n",
    "print(max_high_day)\n",
    "#In this code the value of high colum has max value \n"
   ]
  },
  {
   "cell_type": "code",
   "execution_count": 9,
   "id": "fd5eae01",
   "metadata": {
    "execution": {
     "iopub.execute_input": "2024-04-13T18:05:49.438096Z",
     "iopub.status.busy": "2024-04-13T18:05:49.437702Z",
     "iopub.status.idle": "2024-04-13T18:05:49.798096Z",
     "shell.execute_reply": "2024-04-13T18:05:49.796738Z"
    },
    "papermill": {
     "duration": 0.370903,
     "end_time": "2024-04-13T18:05:49.800607",
     "exception": false,
     "start_time": "2024-04-13T18:05:49.429704",
     "status": "completed"
    },
    "tags": []
   },
   "outputs": [
    {
     "name": "stdout",
     "output_type": "stream",
     "text": [
      "Most common time in 'time_only' column: 09:15:00\n",
      "Number of occurrences: 2221\n"
     ]
    }
   ],
   "source": [
    "# Find the most frequently occurring time in the 'time_only' column and its frequency\n",
    "most_common_time = df['time_only'].value_counts().idxmax()\n",
    "most_common_time_count = df['time_only'].value_counts().max()\n",
    "\n",
    "print(\"Most common time in 'time_only' column:\", most_common_time)\n",
    "print(\"Number of occurrences:\", most_common_time_count)"
   ]
  },
  {
   "cell_type": "markdown",
   "id": "eec06230",
   "metadata": {
    "papermill": {
     "duration": 0.006019,
     "end_time": "2024-04-13T18:05:49.813419",
     "exception": false,
     "start_time": "2024-04-13T18:05:49.807400",
     "status": "completed"
    },
    "tags": []
   },
   "source": [
    "**As you can see above output it means most of the stock price are all time high at 9:15:00 AM**"
   ]
  },
  {
   "cell_type": "code",
   "execution_count": 10,
   "id": "0631e3b3",
   "metadata": {
    "execution": {
     "iopub.execute_input": "2024-04-13T18:05:49.827708Z",
     "iopub.status.busy": "2024-04-13T18:05:49.827315Z",
     "iopub.status.idle": "2024-04-13T18:05:49.994959Z",
     "shell.execute_reply": "2024-04-13T18:05:49.993884Z"
    },
    "papermill": {
     "duration": 0.177582,
     "end_time": "2024-04-13T18:05:49.997402",
     "exception": false,
     "start_time": "2024-04-13T18:05:49.819820",
     "status": "completed"
    },
    "tags": []
   },
   "outputs": [
    {
     "name": "stdout",
     "output_type": "stream",
     "text": [
      "Repeated times and their frequencies in descending order:\n",
      "time_only\n",
      "09:15:00    2221\n",
      "15:15:00    2216\n",
      "13:53:00    2215\n",
      "09:16:00    2213\n",
      "12:08:00    2212\n",
      "            ... \n",
      "16:55:00       1\n",
      "16:56:00       1\n",
      "16:57:00       1\n",
      "16:58:00       1\n",
      "16:59:00       1\n",
      "Name: count, Length: 1097, dtype: int64\n"
     ]
    }
   ],
   "source": [
    "# Count the frequency of each time and sort in descending order\n",
    "time_frequency = df['time_only'].value_counts().sort_values(ascending=False)\n",
    "\n",
    "print(\"Repeated times and their frequencies in descending order:\")\n",
    "print(time_frequency)\n",
    "# print(time_frequency.head(20))"
   ]
  },
  {
   "cell_type": "code",
   "execution_count": 11,
   "id": "78693023",
   "metadata": {
    "execution": {
     "iopub.execute_input": "2024-04-13T18:05:50.012534Z",
     "iopub.status.busy": "2024-04-13T18:05:50.012106Z",
     "iopub.status.idle": "2024-04-13T18:05:55.389566Z",
     "shell.execute_reply": "2024-04-13T18:05:55.387641Z"
    },
    "papermill": {
     "duration": 5.388248,
     "end_time": "2024-04-13T18:05:55.392486",
     "exception": false,
     "start_time": "2024-04-13T18:05:50.004238",
     "status": "completed"
    },
    "tags": []
   },
   "outputs": [
    {
     "name": "stdout",
     "output_type": "stream",
     "text": [
      "Time ranges and their summed frequencies:\n",
      "time_only\n",
      "1900-01-01 09:00:00     66874\n",
      "1900-01-01 09:45:00    100359\n",
      "1900-01-01 10:30:00    100322\n",
      "1900-01-01 11:15:00    100322\n",
      "1900-01-01 12:00:00    100341\n",
      "1900-01-01 12:45:00    100337\n",
      "1900-01-01 13:30:00    100344\n",
      "1900-01-01 14:15:00    100347\n",
      "1900-01-01 15:00:00     66884\n",
      "1900-01-01 15:45:00        45\n",
      "1900-01-01 16:30:00        30\n",
      "1900-01-01 17:15:00        57\n",
      "1900-01-01 18:00:00       255\n",
      "1900-01-01 18:45:00       240\n",
      "Freq: 45min, Name: time_only, dtype: int64\n"
     ]
    }
   ],
   "source": [
    "df['time_only'] = pd.to_datetime(df['time_only'], format='%H:%M:%S')\n",
    "\n",
    "# Resample the DataFrame with a 45-minute time range and sum the frequencies\n",
    "time_frequency = df.resample('45min', on='time_only')['time_only'].count()\n",
    "\n",
    "print(\"Time ranges and their summed frequencies:\")\n",
    "print(time_frequency)"
   ]
  },
  {
   "cell_type": "code",
   "execution_count": null,
   "id": "12077803",
   "metadata": {
    "papermill": {
     "duration": 0.006818,
     "end_time": "2024-04-13T18:05:55.407393",
     "exception": false,
     "start_time": "2024-04-13T18:05:55.400575",
     "status": "completed"
    },
    "tags": []
   },
   "outputs": [],
   "source": []
  }
 ],
 "metadata": {
  "kaggle": {
   "accelerator": "none",
   "dataSources": [
    {
     "datasetId": 2401195,
     "sourceId": 7601159,
     "sourceType": "datasetVersion"
    }
   ],
   "dockerImageVersionId": 30684,
   "isGpuEnabled": false,
   "isInternetEnabled": true,
   "language": "python",
   "sourceType": "notebook"
  },
  "kernelspec": {
   "display_name": "Python 3",
   "language": "python",
   "name": "python3"
  },
  "language_info": {
   "codemirror_mode": {
    "name": "ipython",
    "version": 3
   },
   "file_extension": ".py",
   "mimetype": "text/x-python",
   "name": "python",
   "nbconvert_exporter": "python",
   "pygments_lexer": "ipython3",
   "version": "3.12.0"
  },
  "papermill": {
   "default_parameters": {},
   "duration": 15.525298,
   "end_time": "2024-04-13T18:05:55.937687",
   "environment_variables": {},
   "exception": null,
   "input_path": "__notebook__.ipynb",
   "output_path": "__notebook__.ipynb",
   "parameters": {},
   "start_time": "2024-04-13T18:05:40.412389",
   "version": "2.5.0"
  }
 },
 "nbformat": 4,
 "nbformat_minor": 5
}
